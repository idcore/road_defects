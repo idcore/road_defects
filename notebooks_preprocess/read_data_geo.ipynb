{
 "cells": [
  {
   "cell_type": "code",
   "execution_count": 1,
   "id": "7fc5e835-158f-4816-9ae1-c2c80d965a26",
   "metadata": {},
   "outputs": [],
   "source": [
    "import sqlite3\n",
    "from rosidl_runtime_py.utilities import get_message\n",
    "from rclpy.serialization import deserialize_message"
   ]
  },
  {
   "cell_type": "code",
   "execution_count": 2,
   "id": "d0f8a7cf-9bc4-4280-8f23-e90a15acc970",
   "metadata": {},
   "outputs": [],
   "source": [
    "import pandas as pd\n",
    "import json\n",
    "import sbg_driver\n",
    "import yaml\n",
    "import collections\n",
    "from tqdm import tqdm\n",
    "import os"
   ]
  },
  {
   "cell_type": "code",
   "execution_count": 3,
   "id": "7fd1eb66-ea82-4661-a20e-2529473a3ae2",
   "metadata": {},
   "outputs": [],
   "source": [
    "SIMPLE_TYPES = ['uint32', 'boolean', 'int', 'int32', 'string', 'uint8', 'sequence<uint8>', 'float', 'double', 'uint16']\n",
    "\n",
    "def make_dict(lst):\n",
    "    it = reversed(lst)\n",
    "    d = next(it)\n",
    "    for n in it:\n",
    "        if n == \"\":\n",
    "            continue\n",
    "        d = {n: d}\n",
    "    return d\n",
    "    \n",
    "def msg2json(msg, res=[], root_name=\"\"):\n",
    "    ''' Convert a ROS message to JSON format'''\n",
    "    if not isinstance(msg, list):\n",
    "        fields = msg.get_fields_and_field_types()\n",
    "        for field_name, field_type in fields.items():\n",
    "            # print({root_name+\"/\"+field_name: field_type})\n",
    "            if field_type in SIMPLE_TYPES:\n",
    "                if field_type == 'sequence<uint8>':\n",
    "                    res.append({root_name+\"/\"+field_name: getattr(msg, field_name).tolist()})\n",
    "                else:\n",
    "                    res.append({root_name+\"/\"+field_name: getattr(msg, field_name)})\n",
    "                \n",
    "            else:\n",
    "                msg2json(getattr(msg, field_name), res, root_name+\"/\"+field_name)\n",
    "    else:\n",
    "        for msg_id, msg_sub in enumerate(msg):\n",
    "            msg2json(msg_sub, res, root_name+f\"_id{str(msg_id)}\")\n",
    "    return res\n",
    "\n",
    "def dict_merge(dct, merge_dct):\n",
    "    \"\"\" Recursive dict merge. Inspired by :meth:``dict.update()``, instead of\n",
    "    updating only top-level keys, dict_merge recurses down into dicts nested\n",
    "    to an arbitrary depth, updating keys. The ``merge_dct`` is merged into\n",
    "    ``dct``.\n",
    "    :param dct: dict onto which the merge is executed\n",
    "    :param merge_dct: dct merged into dct\n",
    "    :return: None\n",
    "    \"\"\"\n",
    "    for k, v in merge_dct.items():\n",
    "        if (k in dct and isinstance(dct[k], dict) and isinstance(merge_dct[k], dict)):  #noqa\n",
    "            dict_merge(dct[k], merge_dct[k])\n",
    "        else:\n",
    "            dct[k] = merge_dct[k]\n",
    "\n",
    "def parse_list(list_jsons):\n",
    "    new_res = {}\n",
    "    for res_value in list_jsons:\n",
    "        field_name, field_value = list(res_value.items())[0]\n",
    "        field_name_split = field_name.split(\"/\")\n",
    "        field_name_split.append(field_value)\n",
    "        dict_merge(new_res, make_dict(field_name_split))\n",
    "    return new_res"
   ]
  },
  {
   "cell_type": "code",
   "execution_count": 4,
   "id": "cc0af669-114e-4cb3-8b70-d1ecf816c8bb",
   "metadata": {},
   "outputs": [
    {
     "data": {
      "text/plain": [
       "'./train_dataset/slam_and_nav2'"
      ]
     },
     "execution_count": 4,
     "metadata": {},
     "output_type": "execute_result"
    }
   ],
   "source": [
    "bag_file = \"./train_dataset/outside/rosbag2_2023_08_29-10_08_36_0.db3\"\n",
    "# bag_file = \"./train_dataset/slam_and_nav2/rosbag2_2023_08_29-13_03_38_0.db3\"\n",
    "# bag_file = \"./train_dataset/clear_data/rosbag2_2023_09_04-11_56_58_0.db3\"\n",
    "\n",
    "bag_dir = os.path.dirname(bag_file)\n",
    "bag_dir"
   ]
  },
  {
   "cell_type": "code",
   "execution_count": 5,
   "id": "741344a0-6cd3-4305-ba48-2de32250d1d8",
   "metadata": {},
   "outputs": [],
   "source": [
    "conn = sqlite3.connect(bag_file)\n",
    "cursor = conn.cursor()"
   ]
  },
  {
   "cell_type": "code",
   "execution_count": 6,
   "id": "5dbfbe98-c840-4542-8b1f-0daac19b0b60",
   "metadata": {},
   "outputs": [
    {
     "name": "stdout",
     "output_type": "stream",
     "text": [
      "error topic /can/chassis_front_tx\n",
      "error topic /can/wheels_feedback_front\n",
      "error topic /can/votol_voltage\n",
      "error topic /can/uds_C\n",
      "error topic /can/uds_A\n",
      "error topic /can/command_transit\n",
      "error topic /can/votol_back\n",
      "error topic /can/chassis_feedback_back\n",
      "error topic /can/battery_main\n",
      "error topic /can/tank_fullness\n",
      "error topic /can/ble_dist\n",
      "error topic /can/attachment_transmit_tx\n",
      "error topic /can/votol_front\n",
      "error topic /can/wheels_feedback_back\n"
     ]
    }
   ],
   "source": [
    "topics_data = cursor.execute(\"SELECT id, name, type FROM topics\").fetchall()\n",
    "topic_type = {name_of:type_of for id_of,name_of,type_of in topics_data}\n",
    "topic_ids = {name_of:id_of for id_of,name_of,type_of in topics_data}\n",
    "topic_names = {id_of:name_of for id_of,name_of,type_of in topics_data}\n",
    "topic_msg_message = {}\n",
    "for id_of,name_of,type_of in topics_data:\n",
    "    try:\n",
    "        topic_msg_message.update({name_of:get_message(type_of)})\n",
    "    except:\n",
    "        print(\"error topic\", name_of)\n",
    "        continue\n",
    "# topic_msg_message = {name_of:get_message(type_of) for id_of,name_of,type_of in topics_data}"
   ]
  },
  {
   "cell_type": "code",
   "execution_count": 7,
   "id": "15f0f6ba-ecf7-43c7-a19d-66bf3dc8cef2",
   "metadata": {},
   "outputs": [
    {
     "data": {
      "text/plain": [
       "{1: '/rosout',\n",
       " 2: '/parameter_events',\n",
       " 3: '/joint_states',\n",
       " 4: '/goal_pose',\n",
       " 5: '/events/write_split',\n",
       " 6: '/clicked_point',\n",
       " 7: '/initialpose',\n",
       " 8: '/chassis_back',\n",
       " 9: '/lio_sam/mapping/trajectory',\n",
       " 10: '/lio_sam/feature/cloud_surface',\n",
       " 11: '/lio_sam/mapping/map_global',\n",
       " 12: '/imu_sensor/imu/pos_ecef',\n",
       " 13: '/tank_fullness',\n",
       " 14: '/ouster_driver/transition_event',\n",
       " 15: '/lio_sam/mapping/cloud_registered',\n",
       " 16: '/lio_sam/deskew/cloud_deskewed',\n",
       " 17: '/imu_sensor/imu/velocity',\n",
       " 18: '/imu_sensor/imu/nav_sat_fix',\n",
       " 19: '/tf',\n",
       " 20: '/lio_sam/mapping/cloud_registered_raw',\n",
       " 21: '/odometry/imu_incremental',\n",
       " 22: '/lio_sam/mapping/icp_loop_closure_history_cloud',\n",
       " 23: '/odometry/imu',\n",
       " 24: '/odom',\n",
       " 25: '/points',\n",
       " 26: '/lio_sam/mapping/map_local',\n",
       " 27: '/imu_sensor/imu/utc_ref',\n",
       " 28: '/tf_static',\n",
       " 29: '/robot_description',\n",
       " 30: '/imu_sensor/imu/data',\n",
       " 31: '/cmd_vel_correct',\n",
       " 32: '/imu_sensor/imu/odometry',\n",
       " 33: '/imu_sensor/imu/temp',\n",
       " 34: '/lio_sam/mapping/path',\n",
       " 35: '/can/chassis_front_tx',\n",
       " 36: '/lio_sam/mapping/odometry_incremental',\n",
       " 37: '/lio_sam/feature/cloud_corner',\n",
       " 38: '/lio_sam/imu/path',\n",
       " 39: '/lio_sam/mapping/loop_closure_constraints',\n",
       " 40: '/lio_sam/mapping/odometry',\n",
       " 41: '/human_detect',\n",
       " 42: '/can/wheels_feedback_front',\n",
       " 43: '/can/votol_voltage',\n",
       " 44: '/can/uds_C',\n",
       " 45: '/can/uds_A',\n",
       " 46: '/can/command_transit',\n",
       " 47: '/can/votol_back',\n",
       " 48: '/can/chassis_feedback_back',\n",
       " 49: '/can/battery_main',\n",
       " 50: '/can/tank_fullness',\n",
       " 51: '/can/ble_dist',\n",
       " 52: '/can/attachment_transmit_tx',\n",
       " 53: '/can/votol_front',\n",
       " 54: '/can/wheels_feedback_back',\n",
       " 55: '/cmd_vel',\n",
       " 56: '/battery_state'}"
      ]
     },
     "execution_count": 7,
     "metadata": {},
     "output_type": "execute_result"
    }
   ],
   "source": [
    "topic_names"
   ]
  },
  {
   "cell_type": "code",
   "execution_count": 18,
   "id": "4eed9341-ac66-46e8-8894-43ec3cb8d395",
   "metadata": {},
   "outputs": [],
   "source": [
    "# topic_name = \"/points\"\n",
    "topic_name = \"/imu_sensor/sbg/gps_pos\"\n",
    "# topic_name = '/lio_sam/mapping/map_local'\n",
    "# topic_name = '/lio_sam/mapping/path'\n",
    "topic_id = topic_ids[topic_name]\n",
    "rows = cursor.execute(f\"\"\"SELECT * FROM messages WHERE topic_id = {topic_id}\"\"\").fetchall()"
   ]
  },
  {
   "cell_type": "code",
   "execution_count": 19,
   "id": "181de5af-52b6-484d-9b6f-7bdf7b4ce64f",
   "metadata": {},
   "outputs": [
    {
     "data": {
      "text/plain": [
       "943"
      ]
     },
     "execution_count": 19,
     "metadata": {},
     "output_type": "execute_result"
    }
   ],
   "source": [
    "len(rows)"
   ]
  },
  {
   "cell_type": "code",
   "execution_count": 20,
   "id": "93340146-ba63-41a8-8755-fa43cc58da91",
   "metadata": {},
   "outputs": [],
   "source": [
    "import os\n",
    "import sys\n",
    "import numpy as np"
   ]
  },
  {
   "cell_type": "code",
   "execution_count": 25,
   "id": "2f84985d-455f-486f-aedc-44be2578123c",
   "metadata": {},
   "outputs": [
    {
     "name": "stderr",
     "output_type": "stream",
     "text": [
      "  0%|▏                                                                                                                                        | 1/943 [00:00<00:07, 131.40it/s]\n"
     ]
    }
   ],
   "source": [
    "pbar = tqdm(total=len(rows))\n",
    "for row_idx, row in enumerate(rows):\n",
    "    df_row = {}\n",
    "    row_id, topic_id, timestamp, data = row\n",
    "    topic_name = topic_names[topic_id]\n",
    "    json_file = f\"\"\"{bag_dir}/{topic_name.replace(\"/\",\"__\")}/{topic_name.replace(\"/\",\"__\")}_rowid_{row_id}.json\"\"\"\n",
    "    bin_file = f\"\"\"{bag_dir}/{topic_name.replace(\"/\",\"__\")}/{topic_name.replace(\"/\",\"__\")}_rowid_{row_id}.bin\"\"\"\n",
    "    os.makedirs(os.path.dirname(json_file), exist_ok=True)\n",
    "    df_row.update({\"row_id\": row_id})\n",
    "    df_row.update({\"topic_id\": topic_id})\n",
    "    df_row.update({\"topic_name\": topic_name})\n",
    "    df_row.update({\"timestamp\": timestamp})\n",
    "    data_deserialize = deserialize_message(data, topic_msg_message[topic_name])\n",
    "    data_deserialize = msg2json(data_deserialize, res=[])\n",
    "    data_deserialize = parse_list(data_deserialize)\n",
    "    \n",
    "    data_bytes = bytes(data_deserialize[\"data\"])\n",
    "    data_deserialize[\"data\"] = bin_file\n",
    "    df_row.update({\"data\": data_deserialize})\n",
    "    \n",
    "    with open(bin_file, \"wb\") as binary_file:\n",
    "        binary_file.write(data_bytes)\n",
    "    \n",
    "    with open(json_file, \"w\") as outfile:\n",
    "        outfile.write(json.dumps(df_row, indent=4))\n",
    "    pbar.update(1)\n",
    "        \n",
    "    break\n",
    "pbar.close()"
   ]
  },
  {
   "cell_type": "code",
   "execution_count": 81,
   "id": "efe0c7a8-e552-456b-85f8-f1cc229ad926",
   "metadata": {},
   "outputs": [],
   "source": [
    "# with open(bin_file, mode=\"rb\") as binary_file:\n",
    "#      contents = binary_file.read()\n",
    "# # list(contents)"
   ]
  },
  {
   "cell_type": "code",
   "execution_count": null,
   "id": "055c4569-33a2-4ff4-a545-45d10f15ad5d",
   "metadata": {},
   "outputs": [],
   "source": []
  }
 ],
 "metadata": {
  "kernelspec": {
   "display_name": "Python 3 (ipykernel)",
   "language": "python",
   "name": "python3"
  },
  "language_info": {
   "codemirror_mode": {
    "name": "ipython",
    "version": 3
   },
   "file_extension": ".py",
   "mimetype": "text/x-python",
   "name": "python",
   "nbconvert_exporter": "python",
   "pygments_lexer": "ipython3",
   "version": "3.10.12"
  }
 },
 "nbformat": 4,
 "nbformat_minor": 5
}
